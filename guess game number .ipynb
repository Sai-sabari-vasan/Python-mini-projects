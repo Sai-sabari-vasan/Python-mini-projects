{
 "cells": [
  {
   "cell_type": "code",
   "execution_count": 36,
   "id": "afa4bda8-9d3b-42a5-a9c2-9dbbede83e26",
   "metadata": {},
   "outputs": [
    {
     "name": "stdin",
     "output_type": "stream",
     "text": [
      "Enter start number:  1\n",
      "Enter end number:  10\n",
      "Your guess:  5\n"
     ]
    },
    {
     "name": "stdout",
     "output_type": "stream",
     "text": [
      "A bit lesser bro. Try again!\n"
     ]
    },
    {
     "name": "stdin",
     "output_type": "stream",
     "text": [
      "Your guess:  3\n"
     ]
    },
    {
     "name": "stdout",
     "output_type": "stream",
     "text": [
      "A bit lesser bro. Try again!\n"
     ]
    },
    {
     "name": "stdin",
     "output_type": "stream",
     "text": [
      "Your guess:  2\n"
     ]
    },
    {
     "name": "stdout",
     "output_type": "stream",
     "text": [
      "Yeah bro! You got it.\n",
      "no of guesses:3\n"
     ]
    }
   ],
   "source": [
    "import random\n",
    "list1=[]\n",
    "def guessit(A,B):\n",
    "    guess2=0\n",
    "    while True:\n",
    "        e = int(input(\"Your guess: \"))\n",
    "        guess3=guess2+1\n",
    "        list1.append(guess2)\n",
    "        if e == d:\n",
    "            print(\"Yeah bro! You got it.\")\n",
    "            break\n",
    "        elif e < d:\n",
    "            print(\"A bit more bro. Try again!\")\n",
    "        elif e > d:\n",
    "            print(\"A bit lesser bro. Try again!\")\n",
    "    \n",
    "\n",
    "A = int(input(\"Enter start number: \"))\n",
    "B = int(input(\"Enter end number: \"))\n",
    "d = random.randint(A, B)\n",
    "guess=guessit(A,B)\n",
    "print(f'no of guesses:{len(list1)}')\n"
   ]
  },
  {
   "cell_type": "code",
   "execution_count": 39,
   "id": "fb6e95c9-b304-4b2d-be47-204e705bf91a",
   "metadata": {},
   "outputs": [
    {
     "name": "stdin",
     "output_type": "stream",
     "text": [
      "Enter start number:  1\n",
      "Enter end number:  3\n",
      "Your guess:  2\n"
     ]
    },
    {
     "name": "stdout",
     "output_type": "stream",
     "text": [
      "A bit more bro. Try again!\n"
     ]
    },
    {
     "name": "stdin",
     "output_type": "stream",
     "text": [
      "Your guess:  3\n"
     ]
    },
    {
     "name": "stdout",
     "output_type": "stream",
     "text": [
      "Yeah bro! You got it.\n",
      "Number of guesses: 2\n"
     ]
    }
   ],
   "source": [
    "# import random\n",
    "\n",
    "def guessit(A, B):\n",
    "    \n",
    "    guesses = 0  # counter for number of guesses\n",
    "    \n",
    "    while True:\n",
    "        e = int(input(\"Your guess: \"))\n",
    "        guesses += 1\n",
    "        \n",
    "        if e == d:\n",
    "            print(\"Yeah bro! You got it.\")\n",
    "            break\n",
    "        elif e < d:\n",
    "            print(\"A bit more bro. Try again!\")\n",
    "        else:\n",
    "            print(\"A bit lesser bro. Try again!\")\n",
    "    \n",
    "    return guesses\n",
    "\n",
    "A = int(input(\"Enter start number: \"))\n",
    "B = int(input(\"Enter end number: \"))\n",
    "d = random.randint(A, B)\n",
    "total_guesses = guessit(A, B)\n",
    "print(f'Number of guesses: {total_guesses}')\n"
   ]
  },
  {
   "cell_type": "code",
   "execution_count": null,
   "id": "6678a7c4-8f11-45e6-9f49-7860bfc7cd12",
   "metadata": {},
   "outputs": [],
   "source": []
  }
 ],
 "metadata": {
  "kernelspec": {
   "display_name": "Python 3 (ipykernel)",
   "language": "python",
   "name": "python3"
  },
  "language_info": {
   "codemirror_mode": {
    "name": "ipython",
    "version": 3
   },
   "file_extension": ".py",
   "mimetype": "text/x-python",
   "name": "python",
   "nbconvert_exporter": "python",
   "pygments_lexer": "ipython3",
   "version": "3.11.1"
  }
 },
 "nbformat": 4,
 "nbformat_minor": 5
}
