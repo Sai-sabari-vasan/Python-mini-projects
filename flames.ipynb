{
 "cells": [
  {
   "cell_type": "code",
   "execution_count": 18,
   "id": "7ec4c8db-c9a1-4be9-ad83-f3a89f85a903",
   "metadata": {},
   "outputs": [
    {
     "name": "stdin",
     "output_type": "stream",
     "text": [
      "Enter first string:  sabarivasan \n",
      "Enter second string:  kayadulohar\n"
     ]
    },
    {
     "name": "stdout",
     "output_type": "stream",
     "text": [
      "After removing common letters:\n",
      "First: ['s', 'b', 'i', 'v', 's', 'a', 'n', ' ']\n",
      "Second: ['k', 'y', 'd', 'u', 'l', 'o', 'h']\n",
      "Removing: A\n",
      "Removing: L\n",
      "Removing: S\n",
      "Removing: M\n",
      "Removing: E\n",
      "Final letter: F\n",
      "Relationship: Friends\n"
     ]
    }
   ],
   "source": [
    "First_person = input(\"Enter first string: \")\n",
    "second_person = input(\"Enter second string: \")\n",
    "\n",
    "First_person2 = list(First_person)\n",
    "second_person2 = list(second_person)\n",
    "\n",
    "# Iterating\n",
    "for ch in First_person2[:]:  \n",
    "    if ch in second_person2:\n",
    "        First_person2.remove(ch)\n",
    "        second_person2.remove(ch)\n",
    "\n",
    "print(\"After removing common letters:\")\n",
    "print(\"First:\", First_person2)\n",
    "print(\"Second:\", second_person2)\n",
    "\n",
    "\n",
    "\n",
    "\n",
    "letters = [\"F\", \"L\", \"A\", \"M\", \"E\", \"S\"]\n",
    "count = len(First_person2)+len(second_person2)\n",
    "index = 0   # start from 0\n",
    "\n",
    "while len(letters) > 1:\n",
    "    # move count-1 steps forward manually\n",
    "    for _ in range(count - 1):\n",
    "        index += 1\n",
    "        if index >= len(letters):   # wrap around like a circle\n",
    "            index = 0\n",
    "\n",
    "    print(\"Removing:\", letters[index])   # just to see\n",
    "    letters.pop(index)                   # remove that letter\n",
    "\n",
    "    # no need to increment index again because next round\n",
    "    # naturally continues from this position\n",
    "\n",
    "print(\"Final letter:\", letters[0])\n",
    "flames_meaning = {\n",
    "    \"F\": \"Friends\",\n",
    "    \"L\": \"Love\",\n",
    "    \"A\": \"Affection\",\n",
    "    \"M\": \"Marriage\",\n",
    "    \"E\": \"Enemy\",\n",
    "    \"S\": \"Siblings\"\n",
    "}\n",
    "print(\"Relationship:\", flames_meaning[letters[0]])\n",
    "\n"
   ]
  },
  {
   "cell_type": "code",
   "execution_count": null,
   "id": "32e9a5d9-4547-4ccd-8c8f-480f68a94c0d",
   "metadata": {},
   "outputs": [],
   "source": []
  }
 ],
 "metadata": {
  "kernelspec": {
   "display_name": "Python 3 (ipykernel)",
   "language": "python",
   "name": "python3"
  },
  "language_info": {
   "codemirror_mode": {
    "name": "ipython",
    "version": 3
   },
   "file_extension": ".py",
   "mimetype": "text/x-python",
   "name": "python",
   "nbconvert_exporter": "python",
   "pygments_lexer": "ipython3",
   "version": "3.11.1"
  }
 },
 "nbformat": 4,
 "nbformat_minor": 5
}
