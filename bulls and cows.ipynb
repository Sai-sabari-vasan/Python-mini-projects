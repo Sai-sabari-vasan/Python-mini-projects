{
 "cells": [
  {
   "cell_type": "code",
   "execution_count": 73,
   "id": "941cf57b-e4eb-4ec5-a8d8-fb0c10bd209e",
   "metadata": {},
   "outputs": [
    {
     "name": "stdin",
     "output_type": "stream",
     "text": [
      "Enter a number:  4567\n"
     ]
    },
    {
     "name": "stdout",
     "output_type": "stream",
     "text": [
      "Secret number accepted\n",
      "Please enter a guess with 4 digits:\n"
     ]
    }
   ],
   "source": [
    "def inpu():\n",
    "    num1 = int(input(\"Enter a number: \"))\n",
    "    return num1\n",
    "\n",
    "def is_unique(num):\n",
    "    b = str(num)\n",
    "    length = len(b)\n",
    "    for i in range(length):\n",
    "        for j in range(i+1, length):\n",
    "            if b[i] == b[j]:\n",
    "                return False\n",
    "    return True\n",
    "\n",
    "# step 1: secret number input (must be unique digits)\n",
    "while True:\n",
    "    num1 = inpu()\n",
    "    if is_unique(num1):\n",
    "        print(\"Secret number accepted\")\n",
    "        break\n",
    "    else:\n",
    "        print(\"wrong input (duplicate digit found)\")\n",
    "        print(\"again give a unique digit input\")\n",
    "\n",
    "length = len(str(num1))\n",
    "print(f\"Please enter a guess with {length} digits:\")"
   ]
  },
  {
   "cell_type": "code",
   "execution_count": 72,
   "id": "43c5d09d-5d33-4c3f-8558-216752877132",
   "metadata": {},
   "outputs": [
    {
     "name": "stdin",
     "output_type": "stream",
     "text": [
      "Your guess:  1284\n"
     ]
    },
    {
     "name": "stdout",
     "output_type": "stream",
     "text": [
      "3 Bulls, 0 Cows\n"
     ]
    },
    {
     "name": "stdin",
     "output_type": "stream",
     "text": [
      "Your guess:  1234\n"
     ]
    },
    {
     "name": "stdout",
     "output_type": "stream",
     "text": [
      "Yeah you nailed it! You guessed the correct number.\n"
     ]
    }
   ],
   "source": [
    "while True:\n",
    "    num2 = int(input(\"Your guess: \"))\n",
    "\n",
    "    # check uniqueness\n",
    "    if not is_unique(num2):\n",
    "        print(\"wrong input (duplicate digit found)\")\n",
    "        print(\"again give a unique digit input\")\n",
    "        continue\n",
    "\n",
    "    # check length\n",
    "    str1 = str(num1)\n",
    "    str2 = str(num2)\n",
    "    if len(str2) != length:\n",
    "        print(f\"Invalid guess , must be {length} digits.\")\n",
    "        continue\n",
    "\n",
    "    # exact match\n",
    "    if num1 == num2:\n",
    "        print(\"Yeah you nailed it! You guessed the correct number.\")\n",
    "        break\n",
    "\n",
    "    # calculate cows & bulls\n",
    "    cows = 0\n",
    "    bulls = 0\n",
    "    for i in range(length):\n",
    "        if str2[i] == str1[i]:\n",
    "            bulls += 1\n",
    "        elif str2[i] in str1:\n",
    "            cows += 1\n",
    "\n",
    "    if bulls + cows == 0:\n",
    "        print(\"Sorry, wrong guess — no cows or bulls.\")\n",
    "    else:\n",
    "        print(f\"{bulls} Bulls, {cows} Cows\")"
   ]
  },
  {
   "cell_type": "code",
   "execution_count": null,
   "id": "35c76ff5-2fdd-4468-b505-8b0c40cc2eae",
   "metadata": {},
   "outputs": [],
   "source": []
  }
 ],
 "metadata": {
  "kernelspec": {
   "display_name": "Python 3 (ipykernel)",
   "language": "python",
   "name": "python3"
  },
  "language_info": {
   "codemirror_mode": {
    "name": "ipython",
    "version": 3
   },
   "file_extension": ".py",
   "mimetype": "text/x-python",
   "name": "python",
   "nbconvert_exporter": "python",
   "pygments_lexer": "ipython3",
   "version": "3.11.1"
  }
 },
 "nbformat": 4,
 "nbformat_minor": 5
}
